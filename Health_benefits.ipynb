{
 "cells": [
  {
   "cell_type": "markdown",
   "metadata": {},
   "source": [
    "#### greying hair\n",
    "- Rasayana Churan (option 1) -  https://amzn.to/3kSQDzD\n",
    "- Rasayana Churan (option 2) -  https://amzn.to/2IU9Vrc\n",
    "- Rasayana Churan (option 3) -  https://amzn.to/35RlMzb\n",
    "- Rasayana Churan (option 4) -  https://amzn.to/3nIGp6H\n",
    "- Bhringrajasava (option 1) -  https://amzn.to/3kXyiSc\n",
    "- Bhringrajasava (option 2) -  https://amzn.to/3PLUEGg\n",
    "- Bhringrajasava (option 3) -  https://amzn.to/3kQdCLQ\n",
    "- Bhringrajasava (option 4) -  https://amzn.to/2HkOO0A\n",
    "- Bhringrajasava (option 5) -  https://amzn.to/3Q1TENS\n",
    "- Neelibhringadi Oil (option 1) -  https://amzn.to/3zd16iA\n",
    "- Neelibhringradi oil (option 2) -  https://amzn.to/3zkn4jM\n",
    "- Neelibhringadi oil (option 3) -  https://amzn.to/3zoCsvD\n",
    "- Neelibhringadi oil (option 4) -  https://amzn.to/2ULDDkJ\n",
    "- Neelibhringadi oil (option 5) -  https://amzn.to/3flKKJX\n",
    "- Anu Tailam (option 1) -  https://amzn.to/3vuFEEB\n",
    "- Anu Tailam (option 2) -  https://amzn.to/3oNi0PO\n",
    "- Anu Tailam (option 3) -  https://amzn.to/3p0QCON\n",
    "- Anu Tailam (option 4) -  https://amzn.to/2UObh9m\n",
    "- Anu Tailam (option 5) -  https://amzn.to/2USYd2t\n",
    "- Jaggery Powder -  https://amzn.to/3kU31PM\n",
    "- Thread Mishri -  https://amzn.to/2ZQPFwi"
   ]
  },
  {
   "cell_type": "markdown",
   "metadata": {},
   "source": [
    "#### Soaps\n",
    "- Kaprica Coconut Oil Soap - https://amzn.to/3epd1in\n",
    "- Kaprica Coconut Oil Soap (variant 2) - https://amzn.to/327JwNn\n",
    "- Coconess Cedar Patchouli soap - https://amzn.to/327zZG6\n",
    "- Coconess Rose and Milk Soap - https://amzn.to/34TFr13\n",
    "- Coconess Lavender Soap - https://amzn.to/364S9tg\n",
    "- Neev Charcoal soap - https://amzn.to/3mMen9T\n",
    "- Speaking Tree coffee handmade soap - https://amzn.to/2I26ler\n",
    "- Speaking tree Moringa soap - https://amzn.to/35Wp03f\n",
    "- Speaking Tree Tea Tree soap - https://amzn.to/2JvBx6e\n",
    "- Ancient Living Multani Mitti Soap - https://amzn.to/3jMd2y0\n",
    "- Ancient Living Tulasi Soap - https://amzn.to/3832zvW\n",
    "- Ancient Living Kasthuri Turmeric Soap - https://amzn.to/35Zi1GB\n",
    "- Ancient Living Neem and Lemon soap - https://amzn.to/34R7lus\n",
    "- Ancient Living Orange Soap - https://amzn.to/32oI1un"
   ]
  },
  {
   "cell_type": "markdown",
   "metadata": {},
   "source": [
    "#### Cooking Oils\n",
    "- Kachchi Ghaani Mustard Oil - https://amzn.to/2P8vjIa\n",
    "- Cold Pressed Coconut Oil - https://amzn.to/2Xf4W6n\n",
    "- Cold Pressed Sesame Oil - https://amzn.to/2KytVzW\n",
    "- Cold Pressed Groundnut Oil - https://amzn.to/2UReYwW\n",
    "- Desi Cow Ghee that I have used - https://amzn.to/2Zaty1x"
   ]
  },
  {
   "cell_type": "markdown",
   "metadata": {},
   "source": [
    "- Shampoo (option 1) - https://amzn.to/2IdTmor\n",
    "- Shampoo (option 2)- https://amzn.to/2U7ZhwV\n",
    "- Shampoo (option 3) - https://amzn.to/3h1mDB6\n",
    "- Bathing Soap (option 1) - https://amzn.to/3rgaTzN\n",
    "- Bathing Soap (option 2) - https://amzn.to/3jMd2y0\n",
    "- Bathing Soap (option 3) - https://amzn.to/2JvBx6e\n",
    "- Toothpaste (option 1) - https://amzn.to/3jrcNbu\n",
    "- Toothpaste (option 2) - https://amzn.to/35C4GDZ\n",
    "- Face wash (option 1) - https://amzn.to/2J6vLW6\n",
    "- Face wash (option 2) - https://amzn.to/2J5JRH6\n",
    "- Face wash (option 3) - https://amzn.to/2J5QKs7\n",
    "- Hair oil (option 1) - https://amzn.to/2YU6zqh\n",
    "- Hair oil (option 2) - https://amzn.to/33uYhZI\n",
    "- Hair oil (option 3) - https://amzn.to/33tj938\n",
    "- Moisturiser (option 1) - https://amzn.to/3n4cdCL\n",
    "- Moisturiser (option 2) - https://amzn.to/38r46fE\n",
    "- Moisturiser (option 3) - https://amzn.to/2U7Y0Z4\n",
    "- Cooking oil (option 1) - https://amzn.to/2K85ha5\n",
    "- Cooking oil (option 2) - https://amzn.to/3mqWUnY\n",
    "- Cooking oil (option 3)  - https://amzn.to/35AVSQw\n",
    "- Ghee (option 1) - https://amzn.to/3eplzUS\n",
    "- Ghee (option 2) - https://amzn.to/38cDTzG\n",
    "- Ghee (option 3) - https://amzn.to/34pRT7R\n",
    "- Biscuits (option 1) - https://amzn.to/3p5XxEm\n",
    "- Biscuits (option 2) - https://amzn.to/3p8aFJ3\n",
    "- Biscuits (option 3) - https://amzn.to/2LJugRf\n",
    "- Namkeen (option 1) - https://amzn.to/3riSnXs\n",
    "- Namkeen (option 2) - https://amzn.to/2KgNxsX\n",
    "- Namkeen (option 3) - https://amzn.to/3rbfIKi\n",
    "- Deodorant (option 1) - https://amzn.to/38gp279\n",
    "- Deodorant (option 2)- https://amzn.to/3ml5mox\n",
    "- Deodorant (option 3)- https://amzn.to/2Vo22Ns\n",
    "- Hair Conditioner (option 1) - https://amzn.to/3oQ0o3S\n",
    "- Hair Conditioner (option 2) - https://amzn.to/2QJeTKm\n",
    "- Hair colour (option 1) - https://amzn.to/2KSyDbu\n",
    "- Hair colour (option 2) - https://amzn.to/2ugscos\n",
    "- Hair colour (option 3) - https://amzn.to/2KQhGOV"
   ]
  },
  {
   "cell_type": "code",
   "execution_count": null,
   "metadata": {},
   "outputs": [],
   "source": []
  }
 ],
 "metadata": {
  "kernelspec": {
   "display_name": "Python 3",
   "language": "python",
   "name": "python3"
  },
  "language_info": {
   "codemirror_mode": {
    "name": "ipython",
    "version": 3
   },
   "file_extension": ".py",
   "mimetype": "text/x-python",
   "name": "python",
   "nbconvert_exporter": "python",
   "pygments_lexer": "ipython3",
   "version": "3.6.5"
  }
 },
 "nbformat": 4,
 "nbformat_minor": 2
}
