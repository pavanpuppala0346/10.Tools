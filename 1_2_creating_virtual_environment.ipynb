{
 "cells": [
  {
   "cell_type": "markdown",
   "metadata": {},
   "source": [
    "#### venv setup in vs code\n",
    "- crl+shift+p \n",
    "--> Python: Create Environment(venv) \n",
    "--> python interepereter(3.11.4)\n",
    "--> requirements.txt --> ok"
   ]
  },
  {
   "cell_type": "markdown",
   "metadata": {},
   "source": [
    "https://code.visualstudio.com/docs/python/environments/\n"
   ]
  },
  {
   "cell_type": "markdown",
   "metadata": {},
   "source": [
    "https://www.youtube.com/watch?v=zFKD2Q9m_nQ&ab_channel=KatoonAnimation"
   ]
  },
  {
   "cell_type": "markdown",
   "metadata": {},
   "source": [
    "#### What is Virtual Environment?\n",
    "- \"A virtual environment is a Python environment such that the Python interpreter, libraries and scripts installed into it are isolated from those installed in other virtual environments, and (by default) any libraries installed in a “system” Python, i.e., one which is installed as part of your operating system\""
   ]
  },
  {
   "cell_type": "markdown",
   "metadata": {},
   "source": [
    "#### Steps to create venv in cmd prompt\n",
    "- create a folder \"Python Projects\" in c drive\n",
    "    - inside to above folder create one more folder called \"Virtual Environment\"\n",
    "    - inside the \"Virtual Environment\" folder open cmd prompt\n",
    "    - python -m venv <//venv name> (python -m venv sqlalchemyenv)\n",
    "    - python --version\n",
    "    - <//venv name>\\Scripts\\activate (sqlalchemyenv\\Scripts\\activate)\n",
    "    - deactivate\n",
    "    - to see the package installed in the global env (pip freeze)\n",
    "    - to activate env(sqlalchemyenv\\Scripts\\activate)\n",
    "    - pip install sqlalchemy\n",
    "    - to install mutliple packages(pip install -r requirements.txt)"
   ]
  },
  {
   "cell_type": "markdown",
   "metadata": {},
   "source": [
    "#### commands in cmd prompt\n",
    "- pip3 install --upgrade pip\n",
    "- pip show <//package-name>\n",
    "- pip list\n",
    "- pip install <//package-name>\n",
    "- pip install <//package_name_1> <//package_name_2> <//package_name_3> \n",
    "- pip install <//package-name>==<//version>\n",
    "- pip install --upgrade <//package-name>\n",
    "- pip uninstall <//package-name>"
   ]
  },
  {
   "cell_type": "markdown",
   "metadata": {},
   "source": [
    "#### To See the package version in jupyter notebook\n",
    "- !pip show sqlalchemy"
   ]
  },
  {
   "cell_type": "code",
   "execution_count": null,
   "metadata": {},
   "outputs": [],
   "source": []
  }
 ],
 "metadata": {
  "kernelspec": {
   "display_name": "Python 3",
   "language": "python",
   "name": "python3"
  },
  "language_info": {
   "codemirror_mode": {
    "name": "ipython",
    "version": 3
   },
   "file_extension": ".py",
   "mimetype": "text/x-python",
   "name": "python",
   "nbconvert_exporter": "python",
   "pygments_lexer": "ipython3",
   "version": "3.6.5"
  }
 },
 "nbformat": 4,
 "nbformat_minor": 2
}
