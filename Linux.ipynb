{
 "cells": [
  {
   "cell_type": "markdown",
   "metadata": {},
   "source": [
    "### system"
   ]
  },
  {
   "cell_type": "markdown",
   "metadata": {},
   "source": [
    "display linux system information\n",
    "- uname -a  -->  Linux ivapp1332223.devin3.ms.com 3.10.0-1160.59.1.e17.x86_64 #1 SMP Wed Jun 21 12:17:35 UTC 2022 x86_64 \n",
    "\n",
    "display jernel release info\n",
    "- uname -r  -->  3.10.0-1160.59.1.e17.x86_64\n",
    "\n",
    "show how long the system has been running + load\n",
    "- uptime    -->  05:02:38 up 1 day, 22:47, 5 users, load average: 0.08, 0.09, 0.09\n",
    "\n",
    "show system host name\n",
    "- hostname  -->  ivapp1332223.devin3.ms.com\n",
    "\n",
    "display the ip address of the host\n",
    "- hostname -i  --> 10.84.59.169\n",
    "\n",
    "show system reboot history\n",
    "- last reboot   --> reboot system boot 3.10.0-1160.59.1 Sun Jun 19 06:15-05:03\n",
    "\n",
    "show current date and time\n",
    "- date        -->   Tue Jun 21 05:03:50 EDT 2022\n",
    "\n",
    "show this month calender\n",
    "- cal         --> calendar\n",
    "\n",
    "display who is online\n",
    "- w           --> user: puppapav, TTY:pts/0, From: 10.153.156.109, Login@ : Mon04 , IDLE: 2.00s, JCPU: 0.08s, PCPU: 0.00s, What: w\n",
    "\n",
    "who you are logged in as\n",
    "- whoami     --> puppapav\n",
    "\n",
    "display info about user\n",
    "- finger user   -->"
   ]
  },
  {
   "cell_type": "code",
   "execution_count": null,
   "metadata": {},
   "outputs": [],
   "source": []
  }
 ],
 "metadata": {
  "kernelspec": {
   "display_name": "Python 3",
   "language": "python",
   "name": "python3"
  },
  "language_info": {
   "codemirror_mode": {
    "name": "ipython",
    "version": 3
   },
   "file_extension": ".py",
   "mimetype": "text/x-python",
   "name": "python",
   "nbconvert_exporter": "python",
   "pygments_lexer": "ipython3",
   "version": "3.6.5"
  }
 },
 "nbformat": 4,
 "nbformat_minor": 2
}
