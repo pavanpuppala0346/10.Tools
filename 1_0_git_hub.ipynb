{
 "cells": [
  {
   "cell_type": "markdown",
   "metadata": {},
   "source": [
    "## Steps to Remember\n",
    "- open www.github.com\n",
    "- create github account\n",
    "- create a repo goto profile  -->  your Repository --> New --> Repo name, public, Add a Readme file\n",
    "- create Security on main branch --> Settings --> branches --> branch name(main or master) --> enable first 3 check boxes --> create\n",
    "\n",
    "##  Git SCM\n",
    "- download git bash software https://git-scm.com/downloads\n",
    "- install git\n",
    "\n",
    "- create git folder in c drive --> inside 'git' folder create another folder 'git_yyyymmdd' --> right click 'git bash'"
   ]
  },
  {
   "cell_type": "markdown",
   "metadata": {},
   "source": [
    "#### clone the code from github repo to local repo\n",
    "- open a folder --> right click 'git bash here' --> type 'git' enter(to get all commands)\n",
    "- command(git clone 'paste github url')   --> enter\n",
    "- until you find .git navigate to that area by (cd foldername/)"
   ]
  },
  {
   "cell_type": "markdown",
   "metadata": {},
   "source": [
    "#### NOTE:\n",
    "- red color   - local/index area(pavan_zkr2kq8)\n",
    "- green color - stagging area(reportspack)\n",
    "- white color - git area\n",
    "- branch means team members"
   ]
  },
  {
   "cell_type": "markdown",
   "metadata": {},
   "source": [
    "- git checkout -b '6499_puppala01' (to switch to new branch. here branch means team member)\n",
    "- git status    (nothing to commit, working tree clean means github repor and local repo are on same stage)\n",
    "- git add .     (add all files from local area to stagging area)\n",
    "- git add file_name\n",
    "- git commit -m \"message\"    (commit all files in stagging area to git area)\n",
    "- git push origin branch_name (git to cloud)"
   ]
  },
  {
   "cell_type": "code",
   "execution_count": 1,
   "metadata": {},
   "outputs": [
    {
     "data": {
      "image/png": "[encoded data removed]",
      "text/plain": [
       "<IPython.core.display.Image object>"
      ]
     },
     "execution_count": 1,
     "metadata": {},
     "output_type": "execute_result"
    }
   ],
   "source": [
    "from IPython.display import Image\n",
    "Image(\"E:/code/0.Info/git.png\")"
   ]
  },
  {
   "cell_type": "markdown",
   "metadata": {},
   "source": [
    "## Demo\n",
    "- /e/code/       --> target directory\n",
    "- <b>git clone url</b>\n",
    "- cd 0.Info      --> to change directory(/e/code/0.Info (master))\n",
    "- Add files into the 0.Info folder\n",
    "- <b>git add filename</b>  --> to move files from worksapce to index area\n",
    "- <b>git status</b>\n",
    "- <b>git commit -m \"initial file commit\"</b> --> to move files from index area to local repo.\n",
    "- <b>git status</b>\n",
    "- <b>git push</b>  --> to move files from local repo to github repo.\n",
    "- <b>git status</b>\n",
    "\n",
    "#### Now push all files\n",
    "- <b>git add .</b>\n",
    "- <b>git status</b>\n",
    "- <b>git commit –m “commit all files”</b>\n",
    "- <b>git status</b>\n",
    "- <b>git push</b>\n",
    "- <b>git status</b>"
   ]
  },
  {
   "cell_type": "markdown",
   "metadata": {},
   "source": [
    "### Add collaborators to owner pkumar.datascience\n",
    "- sign in into the github\n",
    "- settings --> Manage Access --> invite a collaborator --> origin branch mailid "
   ]
  },
  {
   "cell_type": "markdown",
   "metadata": {},
   "source": [
    "### To add a origin branch to master\n",
    "- <b>git checkout -b userstory_pavanZkr2kq8</b>\n",
    "- git add .\n",
    "- git commit -m \"message\"\n",
    "- <b>git push origin pavan_zkr2kq8</b>\n",
    "- go to git hub link(https://github.com/pavan-puppala)\n",
    "- raise the pull request  branch: pavan_zkr2kq8 --> click on new pull request\n",
    "- open a pull request base: master <-- compare: pavan_zkr2kq8, add comment and click on \"create pull request\""
   ]
  },
  {
   "cell_type": "markdown",
   "metadata": {},
   "source": [
    "### Now i am the owner of my git so i have to merge the pavan_zkr2kq8 code changes into my git repo\n",
    "- sign in into the github\n",
    "- click on particular username --> click on \"add your review\" --> approve --> submit the review --> merge the pull req -->confirm merge"
   ]
  },
  {
   "cell_type": "code",
   "execution_count": null,
   "metadata": {},
   "outputs": [],
   "source": []
  }
 ],
 "metadata": {
  "kernelspec": {
   "display_name": "Python 3",
   "language": "python",
   "name": "python3"
  },
  "language_info": {
   "codemirror_mode": {
    "name": "ipython",
    "version": 3
   },
   "file_extension": ".py",
   "mimetype": "text/x-python",
   "name": "python",
   "nbconvert_exporter": "python",
   "pygments_lexer": "ipython3",
   "version": "3.6.5"
  }
 },
 "nbformat": 4,
 "nbformat_minor": 2
}
